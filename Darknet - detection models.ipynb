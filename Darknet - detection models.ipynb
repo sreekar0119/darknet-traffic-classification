{
 "cells": [
  {
   "cell_type": "code",
   "execution_count": 7,
   "id": "7bd44042",
   "metadata": {},
   "outputs": [],
   "source": [
    "import pandas as pd\n",
    "import numpy as np\n",
    "import matplotlib.pyplot as plt\n",
    "import seaborn as sns\n",
    "\n",
    "from darknet.classification import *\n",
    "\n",
    "from sklearn.tree import DecisionTreeClassifier\n",
    "from sklearn.ensemble import RandomForestClassifier\n",
    "from sklearn.model_selection import train_test_split\n",
    "from sklearn.neural_network import MLPClassifier\n",
    "from sklearn.preprocessing import StandardScaler\n",
    "from sklearn.preprocessing import MinMaxScaler"
   ]
  },
  {
   "cell_type": "code",
   "execution_count": 8,
   "id": "485226db",
   "metadata": {},
   "outputs": [],
   "source": [
    "random_state = 42\n",
    "dataset_folder = \"dataset/\" \n",
    "img_folder = \"imgs/\"\n",
    "\n",
    "np.random.seed(random_state)\n",
    "plt.rcParams['figure.figsize'] = (18,6)\n",
    "plt.rcParams[\"savefig.format\"] = 'pdf'\n",
    "plt.rcParams[\"savefig.dpi\"] = 600\n",
    "plt.rcParams.update({'font.size': 20})"
   ]
  },
  {
   "cell_type": "code",
   "execution_count": 9,
   "id": "a14cdb2d",
   "metadata": {},
   "outputs": [
    {
     "data": {
      "text/html": [
       "<div>\n",
       "<style scoped>\n",
       "    .dataframe tbody tr th:only-of-type {\n",
       "        vertical-align: middle;\n",
       "    }\n",
       "\n",
       "    .dataframe tbody tr th {\n",
       "        vertical-align: top;\n",
       "    }\n",
       "\n",
       "    .dataframe thead th {\n",
       "        text-align: right;\n",
       "    }\n",
       "</style>\n",
       "<table border=\"1\" class=\"dataframe\">\n",
       "  <thead>\n",
       "    <tr style=\"text-align: right;\">\n",
       "      <th></th>\n",
       "      <th>col_0</th>\n",
       "      <th>col_1</th>\n",
       "      <th>col_2</th>\n",
       "      <th>col_3</th>\n",
       "      <th>col_4</th>\n",
       "      <th>col_5</th>\n",
       "      <th>col_6</th>\n",
       "      <th>col_7</th>\n",
       "      <th>col_8</th>\n",
       "      <th>col_9</th>\n",
       "      <th>...</th>\n",
       "      <th>Fwd Seg Size Min</th>\n",
       "      <th>Active Mean</th>\n",
       "      <th>Active Std</th>\n",
       "      <th>Active Max</th>\n",
       "      <th>Active Min</th>\n",
       "      <th>Idle Mean</th>\n",
       "      <th>Idle Std</th>\n",
       "      <th>Idle Max</th>\n",
       "      <th>Idle Min</th>\n",
       "      <th>Label</th>\n",
       "    </tr>\n",
       "  </thead>\n",
       "  <tbody>\n",
       "    <tr>\n",
       "      <th>0</th>\n",
       "      <td>0</td>\n",
       "      <td>0</td>\n",
       "      <td>0</td>\n",
       "      <td>0</td>\n",
       "      <td>0</td>\n",
       "      <td>0</td>\n",
       "      <td>0</td>\n",
       "      <td>0</td>\n",
       "      <td>0</td>\n",
       "      <td>0</td>\n",
       "      <td>...</td>\n",
       "      <td>0.589647</td>\n",
       "      <td>0</td>\n",
       "      <td>0</td>\n",
       "      <td>0</td>\n",
       "      <td>0</td>\n",
       "      <td>0.000000e+00</td>\n",
       "      <td>0.000</td>\n",
       "      <td>0.000000e+00</td>\n",
       "      <td>0.000000e+00</td>\n",
       "      <td>Benign</td>\n",
       "    </tr>\n",
       "    <tr>\n",
       "      <th>1</th>\n",
       "      <td>0</td>\n",
       "      <td>0</td>\n",
       "      <td>0</td>\n",
       "      <td>0</td>\n",
       "      <td>0</td>\n",
       "      <td>0</td>\n",
       "      <td>0</td>\n",
       "      <td>0</td>\n",
       "      <td>0</td>\n",
       "      <td>0</td>\n",
       "      <td>...</td>\n",
       "      <td>0.589647</td>\n",
       "      <td>0</td>\n",
       "      <td>0</td>\n",
       "      <td>0</td>\n",
       "      <td>0</td>\n",
       "      <td>0.000000e+00</td>\n",
       "      <td>0.000</td>\n",
       "      <td>0.000000e+00</td>\n",
       "      <td>0.000000e+00</td>\n",
       "      <td>Benign</td>\n",
       "    </tr>\n",
       "    <tr>\n",
       "      <th>2</th>\n",
       "      <td>0</td>\n",
       "      <td>0</td>\n",
       "      <td>0</td>\n",
       "      <td>0</td>\n",
       "      <td>0</td>\n",
       "      <td>0</td>\n",
       "      <td>0</td>\n",
       "      <td>0</td>\n",
       "      <td>0</td>\n",
       "      <td>0</td>\n",
       "      <td>...</td>\n",
       "      <td>0.589647</td>\n",
       "      <td>0</td>\n",
       "      <td>0</td>\n",
       "      <td>0</td>\n",
       "      <td>0</td>\n",
       "      <td>0.000000e+00</td>\n",
       "      <td>0.000</td>\n",
       "      <td>0.000000e+00</td>\n",
       "      <td>0.000000e+00</td>\n",
       "      <td>Benign</td>\n",
       "    </tr>\n",
       "    <tr>\n",
       "      <th>3</th>\n",
       "      <td>0</td>\n",
       "      <td>0</td>\n",
       "      <td>0</td>\n",
       "      <td>0</td>\n",
       "      <td>0</td>\n",
       "      <td>0</td>\n",
       "      <td>0</td>\n",
       "      <td>0</td>\n",
       "      <td>0</td>\n",
       "      <td>0</td>\n",
       "      <td>...</td>\n",
       "      <td>0.589647</td>\n",
       "      <td>0</td>\n",
       "      <td>0</td>\n",
       "      <td>0</td>\n",
       "      <td>0</td>\n",
       "      <td>0.000000e+00</td>\n",
       "      <td>0.000</td>\n",
       "      <td>0.000000e+00</td>\n",
       "      <td>0.000000e+00</td>\n",
       "      <td>Benign</td>\n",
       "    </tr>\n",
       "    <tr>\n",
       "      <th>4</th>\n",
       "      <td>0</td>\n",
       "      <td>0</td>\n",
       "      <td>0</td>\n",
       "      <td>0</td>\n",
       "      <td>0</td>\n",
       "      <td>0</td>\n",
       "      <td>0</td>\n",
       "      <td>0</td>\n",
       "      <td>0</td>\n",
       "      <td>0</td>\n",
       "      <td>...</td>\n",
       "      <td>0.589647</td>\n",
       "      <td>0</td>\n",
       "      <td>0</td>\n",
       "      <td>0</td>\n",
       "      <td>0</td>\n",
       "      <td>1.437760e+15</td>\n",
       "      <td>3117718.131</td>\n",
       "      <td>1.437760e+15</td>\n",
       "      <td>1.437760e+15</td>\n",
       "      <td>Benign</td>\n",
       "    </tr>\n",
       "  </tbody>\n",
       "</table>\n",
       "<p>5 rows × 185 columns</p>\n",
       "</div>"
      ],
      "text/plain": [
       "   col_0  col_1  col_2  col_3  col_4  col_5  col_6  col_7  col_8  col_9  ...  \\\n",
       "0      0      0      0      0      0      0      0      0      0      0  ...   \n",
       "1      0      0      0      0      0      0      0      0      0      0  ...   \n",
       "2      0      0      0      0      0      0      0      0      0      0  ...   \n",
       "3      0      0      0      0      0      0      0      0      0      0  ...   \n",
       "4      0      0      0      0      0      0      0      0      0      0  ...   \n",
       "\n",
       "   Fwd Seg Size Min  Active Mean  Active Std  Active Max  Active Min  \\\n",
       "0          0.589647            0           0           0           0   \n",
       "1          0.589647            0           0           0           0   \n",
       "2          0.589647            0           0           0           0   \n",
       "3          0.589647            0           0           0           0   \n",
       "4          0.589647            0           0           0           0   \n",
       "\n",
       "      Idle Mean     Idle Std      Idle Max      Idle Min   Label  \n",
       "0  0.000000e+00        0.000  0.000000e+00  0.000000e+00  Benign  \n",
       "1  0.000000e+00        0.000  0.000000e+00  0.000000e+00  Benign  \n",
       "2  0.000000e+00        0.000  0.000000e+00  0.000000e+00  Benign  \n",
       "3  0.000000e+00        0.000  0.000000e+00  0.000000e+00  Benign  \n",
       "4  1.437760e+15  3117718.131  1.437760e+15  1.437760e+15  Benign  \n",
       "\n",
       "[5 rows x 185 columns]"
      ]
     },
     "execution_count": 9,
     "metadata": {},
     "output_type": "execute_result"
    }
   ],
   "source": [
    "samples = pd.read_csv( r\"C:\\Users\\sreek\\Desktop\\PROJECTS\\mini project\\dataset\\darknet_dataset_processed_encoded.csv\")\n",
    "del samples['Label.1']\n",
    "samples.head()"
   ]
  },
  {
   "cell_type": "code",
   "execution_count": 10,
   "id": "4a8527e1",
   "metadata": {},
   "outputs": [],
   "source": [
    "X, y, labels = split_train_target(samples, \"Label\")\n",
    "X_train, X_test, y_train, y_test = train_test_split(X, y, test_size=0.33, random_state=random_state)\n",
    "columns = samples.columns.tolist()"
   ]
  },
  {
   "cell_type": "markdown",
   "id": "56c3b6c3",
   "metadata": {},
   "source": [
    "## Decision tree"
   ]
  },
  {
   "cell_type": "code",
   "execution_count": 11,
   "id": "352c3213",
   "metadata": {},
   "outputs": [
    {
     "name": "stderr",
     "output_type": "stream",
     "text": [
      "100%|██████████| 10/10 [00:49<00:00,  4.97s/it, Test acc. #9=0.999]\n"
     ]
    },
    {
     "name": "stdout",
     "output_type": "stream",
     "text": [
      "       precision       recall       f1-score       support       \n",
      "Benign:   99.94\t\t99.93\t\t99.93\t\t784910.00\t\t\n",
      "Darknet:  99.64\t\t99.70\t\t99.67\t\t163010.00\t\t\n",
      "\n",
      "\n",
      " 10-fold Accuracy: 99.89%\n",
      "Test accuracy: 99.92%\n",
      "\n",
      "\n",
      "Confusion matrix:\n",
      "[[38660    19]\n",
      " [   18  7992]]\n",
      "\n",
      "Benign :    99.95%\n",
      "Darknet :   99.76%\n"
     ]
    },
    {
     "data": {
      "image/png": "[encoded data removed]",
      "text/plain": [
       "<Figure size 600x400 with 2 Axes>"
      ]
     },
     "metadata": {},
     "output_type": "display_data"
    }
   ],
   "source": [
    "dt = DecisionTreeClassifier()\n",
    "report_dt = evaluate_model(dt, X_train, y_train, X_test, y_test, \n",
    "                           labels, figsize=(6,4),rotation=(90, 0), \n",
    "                           fname=\"imgs/dt_conf_origin\")"
   ]
  },
  {
   "cell_type": "markdown",
   "id": "17904552",
   "metadata": {},
   "source": [
    "## Random forest"
   ]
  },
  {
   "cell_type": "code",
   "execution_count": 12,
   "id": "77075443",
   "metadata": {},
   "outputs": [
    {
     "name": "stderr",
     "output_type": "stream",
     "text": [
      "100%|██████████| 10/10 [03:05<00:00, 18.56s/it, Test acc. #9=0.999]\n"
     ]
    },
    {
     "name": "stdout",
     "output_type": "stream",
     "text": [
      "       precision       recall       f1-score       support       \n",
      "Benign:   99.89\t\t99.97\t\t99.93\t\t784910.00\t\t\n",
      "Darknet:  99.88\t\t99.45\t\t99.66\t\t163010.00\t\t\n",
      "\n",
      "\n",
      " 10-fold Accuracy: 99.88%\n",
      "Test accuracy: 99.89%\n",
      "\n",
      "\n",
      "Confusion matrix:\n",
      "[[38668    11]\n",
      " [   39  7971]]\n",
      "\n",
      "Benign :    99.90%\n",
      "Darknet :   99.86%\n"
     ]
    },
    {
     "data": {
      "image/png": "[encoded data removed]",
      "text/plain": [
       "<Figure size 600x400 with 2 Axes>"
      ]
     },
     "metadata": {},
     "output_type": "display_data"
    }
   ],
   "source": [
    "rf = RandomForestClassifier()\n",
    "report_rf = evaluate_model(rf, X_train, y_train, X_test, y_test, labels, \n",
    "                           figsize=(6,4), rotation=(90, 0), fname=\"imgs/rf_conf_origin\")"
   ]
  },
  {
   "cell_type": "markdown",
   "id": "3e0de376-e3af-4c38-8352-f4b4cc1737f0",
   "metadata": {},
   "source": [
    "## Multilayer perceptron"
   ]
  },
  {
   "cell_type": "code",
   "execution_count": 13,
   "id": "9c047d88-d62c-4558-aad9-d2e83cdbe4ea",
   "metadata": {},
   "outputs": [],
   "source": [
    "scaler = MinMaxScaler(feature_range = (-1,1)) # StandardScaler\n",
    "scaler.fit(X)\n",
    "scaled_X_train = scaler.transform(X_train)\n",
    "scaled_X_test = scaler.transform(X_test)"
   ]
  },
  {
   "cell_type": "code",
   "execution_count": 15,
   "id": "ab9ab2f8-367f-4f6f-877d-ae376360f631",
   "metadata": {},
   "outputs": [
    {
     "name": "stderr",
     "output_type": "stream",
     "text": [
      "100%|██████████| 10/10 [02:03<00:00, 12.33s/it, Test acc. #9=0.998]\n"
     ]
    },
    {
     "name": "stdout",
     "output_type": "stream",
     "text": [
      "       precision       recall       f1-score       support       \n",
      "Benign:   99.82\t\t99.98\t\t99.90\t\t784910.00\t\t\n",
      "Darknet:  99.91\t\t99.12\t\t99.51\t\t163010.00\t\t\n",
      "\n",
      "\n",
      " 10-fold Accuracy: 99.83%\n",
      "Test accuracy: 99.84%\n",
      "\n",
      "\n",
      "Confusion matrix:\n",
      "[[38677     2]\n",
      " [   71  7939]]\n",
      "\n",
      "Benign :    99.82%\n",
      "Darknet :   99.97%\n"
     ]
    },
    {
     "data": {
      "image/png": "[encoded data removed]",
      "text/plain": [
       "<Figure size 1000x1000 with 2 Axes>"
      ]
     },
     "metadata": {},
     "output_type": "display_data"
    }
   ],
   "source": [
    "mlp = MLPClassifier(hidden_layer_sizes=[10, 20, 10], learning_rate=\"adaptive\", early_stopping=True)\n",
    "report_mlp, accs_mlp = evaluate_model(mlp, scaled_X_train, y_train, scaled_X_test, y_test, labels, vmax=800,\n",
    "                           rotation=(0,0), fname=\"imgs/mlp_conf_app\", display_labels=[\"A\", \"B\"])\n",
    "                           "
   ]
  },
  {
   "cell_type": "markdown",
   "id": "492b3fb4",
   "metadata": {},
   "source": [
    "## Models comparison"
   ]
  },
  {
   "cell_type": "code",
   "execution_count": null,
   "id": "6bcbf40c",
   "metadata": {},
   "outputs": [
    {
     "name": "stdout",
     "output_type": "stream",
     "text": [
      "Requirement already satisfied: mlxtend in c:\\users\\marim\\anaconda3\\lib\\site-packages (0.18.0)\n",
      "Requirement already satisfied: joblib>=0.13.2 in c:\\users\\marim\\anaconda3\\lib\\site-packages (from mlxtend) (1.0.1)\n",
      "Requirement already satisfied: scipy>=1.2.1 in c:\\users\\marim\\anaconda3\\lib\\site-packages (from mlxtend) (1.6.2)\n",
      "Requirement already satisfied: matplotlib>=3.0.0 in c:\\users\\marim\\anaconda3\\lib\\site-packages (from mlxtend) (3.3.4)\n",
      "Requirement already satisfied: numpy>=1.16.2 in c:\\users\\marim\\anaconda3\\lib\\site-packages (from mlxtend) (1.20.1)\n",
      "Requirement already satisfied: pandas>=0.24.2 in c:\\users\\marim\\anaconda3\\lib\\site-packages (from mlxtend) (1.2.4)\n",
      "Requirement already satisfied: scikit-learn>=0.20.3 in c:\\users\\marim\\anaconda3\\lib\\site-packages (from mlxtend) (0.24.1)\n",
      "Requirement already satisfied: setuptools in c:\\users\\marim\\anaconda3\\lib\\site-packages (from mlxtend) (52.0.0.post20210125)\n",
      "Requirement already satisfied: cycler>=0.10 in c:\\users\\marim\\anaconda3\\lib\\site-packages (from matplotlib>=3.0.0->mlxtend) (0.10.0)\n",
      "Requirement already satisfied: python-dateutil>=2.1 in c:\\users\\marim\\anaconda3\\lib\\site-packages (from matplotlib>=3.0.0->mlxtend) (2.8.1)\n",
      "Requirement already satisfied: pillow>=6.2.0 in c:\\users\\marim\\anaconda3\\lib\\site-packages (from matplotlib>=3.0.0->mlxtend) (8.2.0)\n",
      "Requirement already satisfied: pyparsing!=2.0.4,!=2.1.2,!=2.1.6,>=2.0.3 in c:\\users\\marim\\anaconda3\\lib\\site-packages (from matplotlib>=3.0.0->mlxtend) (2.4.7)\n",
      "Requirement already satisfied: kiwisolver>=1.0.1 in c:\\users\\marim\\anaconda3\\lib\\site-packages (from matplotlib>=3.0.0->mlxtend) (1.3.1)\n",
      "Requirement already satisfied: six in c:\\users\\marim\\anaconda3\\lib\\site-packages (from cycler>=0.10->matplotlib>=3.0.0->mlxtend) (1.15.0)\n",
      "Requirement already satisfied: pytz>=2017.3 in c:\\users\\marim\\anaconda3\\lib\\site-packages (from pandas>=0.24.2->mlxtend) (2021.1)\n",
      "Requirement already satisfied: threadpoolctl>=2.0.0 in c:\\users\\marim\\anaconda3\\lib\\site-packages (from scikit-learn>=0.20.3->mlxtend) (2.1.0)\n"
     ]
    }
   ],
   "source": [
    "#!pip install mlxtend"
   ]
  },
  {
   "cell_type": "code",
   "execution_count": 16,
   "id": "243a77b4",
   "metadata": {},
   "outputs": [],
   "source": [
    "from sklearn.model_selection import RepeatedStratifiedKFold\n",
    "from sklearn.model_selection import cross_val_score\n",
    "from mlxtend.evaluate import *"
   ]
  },
  {
   "cell_type": "code",
   "execution_count": 17,
   "id": "95d91678",
   "metadata": {},
   "outputs": [
    {
     "name": "stderr",
     "output_type": "stream",
     "text": [
      "[Parallel(n_jobs=-1)]: Using backend LokyBackend with 20 concurrent workers.\n",
      "[Parallel(n_jobs=-1)]: Done   1 tasks      | elapsed:   14.5s\n",
      "[Parallel(n_jobs=-1)]: Done  10 tasks      | elapsed:   28.8s\n",
      "[Parallel(n_jobs=-1)]: Done  21 tasks      | elapsed:   45.8s\n",
      "[Parallel(n_jobs=-1)]: Done  32 tasks      | elapsed:  1.0min\n",
      "[Parallel(n_jobs=-1)]: Done  45 tasks      | elapsed:  1.4min\n",
      "[Parallel(n_jobs=-1)]: Done  58 tasks      | elapsed:  1.6min\n",
      "[Parallel(n_jobs=-1)]: Done  72 out of 100 | elapsed:  2.0min remaining:   46.9s\n",
      "[Parallel(n_jobs=-1)]: Done  83 out of 100 | elapsed:  2.3min remaining:   27.6s\n",
      "[Parallel(n_jobs=-1)]: Done  94 out of 100 | elapsed:  2.5min remaining:    9.5s\n"
     ]
    },
    {
     "name": "stdout",
     "output_type": "stream",
     "text": [
      "Decision tree mean accuracy: 99.906% (0.030)\n"
     ]
    },
    {
     "name": "stderr",
     "output_type": "stream",
     "text": [
      "[Parallel(n_jobs=-1)]: Done 100 out of 100 | elapsed:  2.6min finished\n"
     ]
    }
   ],
   "source": [
    "cv = RepeatedStratifiedKFold(n_splits=10, n_repeats=10)\n",
    "scores_dt = cross_val_score(dt, X, y, scoring='accuracy', cv=cv, n_jobs=-1, verbose=10)\n",
    "print(\"Decision tree mean accuracy: %.3f%% (%.3f)\" % (np.mean(scores_dt)*100, np.std(scores_dt)*100))"
   ]
  },
  {
   "cell_type": "code",
   "execution_count": 19,
   "id": "b1972db6",
   "metadata": {},
   "outputs": [
    {
     "name": "stdout",
     "output_type": "stream",
     "text": [
      "[CV] START .....................................................................\n",
      "[CV] END ................................ score: (test=0.999) total time=  26.2s\n",
      "[CV] START .....................................................................\n"
     ]
    },
    {
     "name": "stderr",
     "output_type": "stream",
     "text": [
      "[Parallel(n_jobs=1)]: Done   1 tasks      | elapsed:   26.3s\n"
     ]
    },
    {
     "name": "stdout",
     "output_type": "stream",
     "text": [
      "[CV] END ................................ score: (test=0.999) total time=  24.6s\n",
      "[CV] START .....................................................................\n",
      "[CV] END ................................ score: (test=0.999) total time=  24.8s\n",
      "[CV] START .....................................................................\n",
      "[CV] END ................................ score: (test=0.999) total time=  23.6s\n",
      "[CV] START .....................................................................\n"
     ]
    },
    {
     "name": "stderr",
     "output_type": "stream",
     "text": [
      "[Parallel(n_jobs=1)]: Done   4 tasks      | elapsed:  1.7min\n"
     ]
    },
    {
     "name": "stdout",
     "output_type": "stream",
     "text": [
      "[CV] END ................................ score: (test=0.999) total time=  24.5s\n",
      "[CV] START .....................................................................\n",
      "[CV] END ................................ score: (test=0.999) total time=  23.6s\n",
      "[CV] START .....................................................................\n",
      "[CV] END ................................ score: (test=0.999) total time=  26.2s\n",
      "[CV] START .....................................................................\n"
     ]
    },
    {
     "name": "stderr",
     "output_type": "stream",
     "text": [
      "[Parallel(n_jobs=1)]: Done   7 tasks      | elapsed:  2.9min\n"
     ]
    },
    {
     "name": "stdout",
     "output_type": "stream",
     "text": [
      "[CV] END ................................ score: (test=0.999) total time=  26.3s\n",
      "[CV] START .....................................................................\n",
      "[CV] END ................................ score: (test=0.999) total time=  25.8s\n",
      "[CV] START .....................................................................\n",
      "[CV] END ................................ score: (test=0.999) total time=  25.9s\n",
      "[CV] START .....................................................................\n",
      "[CV] END ................................ score: (test=0.999) total time=  26.9s\n",
      "[CV] START .....................................................................\n",
      "[CV] END ................................ score: (test=0.999) total time=  24.5s\n",
      "[CV] START .....................................................................\n"
     ]
    },
    {
     "name": "stderr",
     "output_type": "stream",
     "text": [
      "[Parallel(n_jobs=1)]: Done  12 tasks      | elapsed:  5.1min\n"
     ]
    },
    {
     "name": "stdout",
     "output_type": "stream",
     "text": [
      "[CV] END ................................ score: (test=0.999) total time=  25.0s\n",
      "[CV] START .....................................................................\n",
      "[CV] END ................................ score: (test=0.999) total time=  24.4s\n",
      "[CV] START .....................................................................\n",
      "[CV] END ................................ score: (test=0.999) total time=  34.7s\n",
      "[CV] START .....................................................................\n",
      "[CV] END ................................ score: (test=0.999) total time=  34.1s\n",
      "[CV] START .....................................................................\n",
      "[CV] END ................................ score: (test=0.999) total time=  25.3s\n",
      "[CV] START .....................................................................\n"
     ]
    },
    {
     "name": "stderr",
     "output_type": "stream",
     "text": [
      "[Parallel(n_jobs=1)]: Done  17 tasks      | elapsed:  7.5min\n"
     ]
    },
    {
     "name": "stdout",
     "output_type": "stream",
     "text": [
      "[CV] END ................................ score: (test=0.999) total time=  27.2s\n",
      "[CV] START .....................................................................\n",
      "[CV] END ................................ score: (test=0.999) total time=  33.9s\n",
      "[CV] START .....................................................................\n",
      "[CV] END ................................ score: (test=0.999) total time=  30.0s\n",
      "[CV] START .....................................................................\n",
      "[CV] END ................................ score: (test=0.999) total time=  34.4s\n",
      "[CV] START .....................................................................\n",
      "[CV] END ................................ score: (test=0.999) total time=  36.0s\n",
      "[CV] START .....................................................................\n",
      "[CV] END ................................ score: (test=0.999) total time=  32.3s\n",
      "[CV] START .....................................................................\n",
      "[CV] END ................................ score: (test=0.999) total time=  31.0s\n",
      "[CV] START .....................................................................\n"
     ]
    },
    {
     "name": "stderr",
     "output_type": "stream",
     "text": [
      "[Parallel(n_jobs=1)]: Done  24 tasks      | elapsed: 11.3min\n"
     ]
    },
    {
     "name": "stdout",
     "output_type": "stream",
     "text": [
      "[CV] END ................................ score: (test=0.998) total time=  25.1s\n",
      "[CV] START .....................................................................\n",
      "[CV] END ................................ score: (test=0.999) total time=  24.5s\n",
      "[CV] START .....................................................................\n",
      "[CV] END ................................ score: (test=1.000) total time=  30.8s\n",
      "[CV] START .....................................................................\n",
      "[CV] END ................................ score: (test=0.999) total time=  34.4s\n",
      "[CV] START .....................................................................\n",
      "[CV] END ................................ score: (test=0.999) total time=  36.8s\n",
      "[CV] START .....................................................................\n",
      "[CV] END ................................ score: (test=0.999) total time=  36.7s\n",
      "[CV] START .....................................................................\n",
      "[CV] END ................................ score: (test=0.999) total time=  30.0s\n",
      "[CV] START .....................................................................\n"
     ]
    },
    {
     "name": "stderr",
     "output_type": "stream",
     "text": [
      "[Parallel(n_jobs=1)]: Done  31 tasks      | elapsed: 14.9min\n"
     ]
    },
    {
     "name": "stdout",
     "output_type": "stream",
     "text": [
      "[CV] END ................................ score: (test=0.999) total time=  33.2s\n",
      "[CV] START .....................................................................\n",
      "[CV] END ................................ score: (test=0.999) total time=  35.0s\n",
      "[CV] START .....................................................................\n",
      "[CV] END ................................ score: (test=0.999) total time=  35.4s\n",
      "[CV] START .....................................................................\n",
      "[CV] END ................................ score: (test=0.999) total time=  35.4s\n",
      "[CV] START .....................................................................\n",
      "[CV] END ................................ score: (test=0.999) total time=  36.0s\n",
      "[CV] START .....................................................................\n",
      "[CV] END ................................ score: (test=0.999) total time=  30.4s\n",
      "[CV] START .....................................................................\n",
      "[CV] END ................................ score: (test=0.999) total time=  32.6s\n",
      "[CV] START .....................................................................\n",
      "[CV] END ................................ score: (test=0.999) total time=  31.7s\n",
      "[CV] START .....................................................................\n",
      "[CV] END ................................ score: (test=0.999) total time=  30.0s\n",
      "[CV] START .....................................................................\n"
     ]
    },
    {
     "name": "stderr",
     "output_type": "stream",
     "text": [
      "[Parallel(n_jobs=1)]: Done  40 tasks      | elapsed: 19.9min\n"
     ]
    },
    {
     "name": "stdout",
     "output_type": "stream",
     "text": [
      "[CV] END ................................ score: (test=0.999) total time=  30.2s\n",
      "[CV] START .....................................................................\n",
      "[CV] END ................................ score: (test=0.999) total time=  30.3s\n",
      "[CV] START .....................................................................\n",
      "[CV] END ................................ score: (test=0.999) total time=  29.2s\n",
      "[CV] START .....................................................................\n",
      "[CV] END ................................ score: (test=0.998) total time=  30.3s\n",
      "[CV] START .....................................................................\n",
      "[CV] END ................................ score: (test=0.999) total time=  32.1s\n",
      "[CV] START .....................................................................\n",
      "[CV] END ................................ score: (test=0.999) total time=  31.3s\n",
      "[CV] START .....................................................................\n",
      "[CV] END ................................ score: (test=0.999) total time=  32.9s\n",
      "[CV] START .....................................................................\n",
      "[CV] END ................................ score: (test=0.999) total time=  31.4s\n",
      "[CV] START .....................................................................\n",
      "[CV] END ................................ score: (test=0.999) total time=  34.1s\n",
      "[CV] START .....................................................................\n"
     ]
    },
    {
     "name": "stderr",
     "output_type": "stream",
     "text": [
      "[Parallel(n_jobs=1)]: Done  49 tasks      | elapsed: 24.7min\n"
     ]
    },
    {
     "name": "stdout",
     "output_type": "stream",
     "text": [
      "[CV] END ................................ score: (test=0.999) total time=  33.9s\n",
      "[CV] START .....................................................................\n",
      "[CV] END ................................ score: (test=0.999) total time=  33.2s\n",
      "[CV] START .....................................................................\n",
      "[CV] END ................................ score: (test=0.999) total time=  31.7s\n",
      "[CV] START .....................................................................\n",
      "[CV] END ................................ score: (test=0.999) total time=  33.2s\n",
      "[CV] START .....................................................................\n",
      "[CV] END ................................ score: (test=0.999) total time=  31.8s\n",
      "[CV] START .....................................................................\n",
      "[CV] END ................................ score: (test=0.999) total time=  30.7s\n",
      "[CV] START .....................................................................\n",
      "[CV] END ................................ score: (test=0.999) total time=  30.3s\n",
      "[CV] START .....................................................................\n",
      "[CV] END ................................ score: (test=0.999) total time=  31.5s\n",
      "[CV] START .....................................................................\n",
      "[CV] END ................................ score: (test=0.999) total time=  32.5s\n",
      "[CV] START .....................................................................\n",
      "[CV] END ................................ score: (test=0.999) total time=  32.5s\n",
      "[CV] START .....................................................................\n",
      "[CV] END ................................ score: (test=0.998) total time=  25.2s\n",
      "[CV] START .....................................................................\n"
     ]
    },
    {
     "name": "stderr",
     "output_type": "stream",
     "text": [
      "[Parallel(n_jobs=1)]: Done  60 tasks      | elapsed: 30.5min\n"
     ]
    },
    {
     "name": "stdout",
     "output_type": "stream",
     "text": [
      "[CV] END ................................ score: (test=0.999) total time=  24.3s\n",
      "[CV] START .....................................................................\n",
      "[CV] END ................................ score: (test=0.999) total time=  23.5s\n",
      "[CV] START .....................................................................\n",
      "[CV] END ................................ score: (test=0.999) total time=  31.2s\n",
      "[CV] START .....................................................................\n",
      "[CV] END ................................ score: (test=0.999) total time=  35.4s\n",
      "[CV] START .....................................................................\n",
      "[CV] END ................................ score: (test=0.999) total time=  37.6s\n",
      "[CV] START .....................................................................\n",
      "[CV] END ................................ score: (test=0.999) total time=  36.1s\n",
      "[CV] START .....................................................................\n",
      "[CV] END ................................ score: (test=0.999) total time=  36.5s\n",
      "[CV] START .....................................................................\n",
      "[CV] END ................................ score: (test=0.999) total time=  33.9s\n",
      "[CV] START .....................................................................\n",
      "[CV] END ................................ score: (test=0.999) total time=  31.9s\n",
      "[CV] START .....................................................................\n",
      "[CV] END ................................ score: (test=0.999) total time=  30.8s\n",
      "[CV] START .....................................................................\n",
      "[CV] END ................................ score: (test=0.999) total time=  33.6s\n",
      "[CV] START .....................................................................\n"
     ]
    },
    {
     "name": "stderr",
     "output_type": "stream",
     "text": [
      "[Parallel(n_jobs=1)]: Done  71 tasks      | elapsed: 36.4min\n"
     ]
    },
    {
     "name": "stdout",
     "output_type": "stream",
     "text": [
      "[CV] END ................................ score: (test=0.999) total time=  30.1s\n",
      "[CV] START .....................................................................\n",
      "[CV] END ................................ score: (test=0.999) total time=  31.6s\n",
      "[CV] START .....................................................................\n",
      "[CV] END ................................ score: (test=0.999) total time=  31.3s\n",
      "[CV] START .....................................................................\n",
      "[CV] END ................................ score: (test=0.999) total time=  28.0s\n",
      "[CV] START .....................................................................\n",
      "[CV] END ................................ score: (test=0.999) total time=  32.5s\n",
      "[CV] START .....................................................................\n",
      "[CV] END ................................ score: (test=0.999) total time=  31.0s\n",
      "[CV] START .....................................................................\n",
      "[CV] END ................................ score: (test=0.999) total time=  30.3s\n",
      "[CV] START .....................................................................\n",
      "[CV] END ................................ score: (test=0.999) total time=  30.1s\n",
      "[CV] START .....................................................................\n",
      "[CV] END ................................ score: (test=0.999) total time=  31.3s\n",
      "[CV] START .....................................................................\n",
      "[CV] END ................................ score: (test=0.999) total time=  30.3s\n",
      "[CV] START .....................................................................\n",
      "[CV] END ................................ score: (test=0.999) total time=  30.8s\n",
      "[CV] START .....................................................................\n",
      "[CV] END ................................ score: (test=0.999) total time=  32.3s\n",
      "[CV] START .....................................................................\n",
      "[CV] END ................................ score: (test=0.999) total time=  31.0s\n",
      "[CV] START .....................................................................\n"
     ]
    },
    {
     "name": "stderr",
     "output_type": "stream",
     "text": [
      "[Parallel(n_jobs=1)]: Done  84 tasks      | elapsed: 43.2min\n"
     ]
    },
    {
     "name": "stdout",
     "output_type": "stream",
     "text": [
      "[CV] END ................................ score: (test=0.999) total time=  31.8s\n",
      "[CV] START .....................................................................\n",
      "[CV] END ................................ score: (test=0.999) total time=  26.9s\n",
      "[CV] START .....................................................................\n",
      "[CV] END ................................ score: (test=0.999) total time=  24.9s\n",
      "[CV] START .....................................................................\n",
      "[CV] END ................................ score: (test=0.999) total time=  24.7s\n",
      "[CV] START .....................................................................\n",
      "[CV] END ................................ score: (test=0.999) total time=  34.6s\n",
      "[CV] START .....................................................................\n",
      "[CV] END ................................ score: (test=0.999) total time=  31.2s\n",
      "[CV] START .....................................................................\n",
      "[CV] END ................................ score: (test=0.999) total time=  29.6s\n",
      "[CV] START .....................................................................\n",
      "[CV] END ................................ score: (test=0.999) total time=  32.3s\n",
      "[CV] START .....................................................................\n",
      "[CV] END ................................ score: (test=0.999) total time=  35.3s\n",
      "[CV] START .....................................................................\n",
      "[CV] END ................................ score: (test=0.999) total time=  36.4s\n",
      "[CV] START .....................................................................\n",
      "[CV] END ................................ score: (test=0.999) total time=  35.1s\n",
      "[CV] START .....................................................................\n",
      "[CV] END ................................ score: (test=0.999) total time=  35.1s\n",
      "[CV] START .....................................................................\n",
      "[CV] END ................................ score: (test=0.999) total time=  34.0s\n",
      "[CV] START .....................................................................\n"
     ]
    },
    {
     "name": "stderr",
     "output_type": "stream",
     "text": [
      "[Parallel(n_jobs=1)]: Done  97 tasks      | elapsed: 50.1min\n"
     ]
    },
    {
     "name": "stdout",
     "output_type": "stream",
     "text": [
      "[CV] END ................................ score: (test=0.999) total time=  29.2s\n",
      "[CV] START .....................................................................\n",
      "[CV] END ................................ score: (test=0.999) total time=  35.0s\n",
      "[CV] START .....................................................................\n",
      "[CV] END ................................ score: (test=0.999) total time=  36.2s\n",
      "Random forest mean accuracy: 99.905% (0.025)\n"
     ]
    }
   ],
   "source": [
    "cv = RepeatedStratifiedKFold(n_splits=10, n_repeats=10)\n",
    "scores_rf = cross_val_score(rf, X, y, scoring='accuracy', cv=cv, n_jobs=1, verbose=10)\n",
    "print(\"Random forest mean accuracy: %.3f%% (%.3f)\" % (np.mean(scores_rf)*100, np.std(scores_rf)*100))"
   ]
  },
  {
   "cell_type": "code",
   "execution_count": 20,
   "id": "6e08b541-7cbf-4dd0-b5b0-7f5ebd08611e",
   "metadata": {},
   "outputs": [
    {
     "name": "stderr",
     "output_type": "stream",
     "text": [
      "[Parallel(n_jobs=-1)]: Using backend LokyBackend with 20 concurrent workers.\n",
      "[Parallel(n_jobs=-1)]: Done   1 tasks      | elapsed:   16.7s\n",
      "[Parallel(n_jobs=-1)]: Done  10 tasks      | elapsed:   21.6s\n",
      "[Parallel(n_jobs=-1)]: Done  21 tasks      | elapsed:   33.7s\n",
      "[Parallel(n_jobs=-1)]: Done  32 tasks      | elapsed:   40.0s\n",
      "[Parallel(n_jobs=-1)]: Done  45 tasks      | elapsed:   52.9s\n",
      "[Parallel(n_jobs=-1)]: Done  58 tasks      | elapsed:  1.1min\n",
      "[Parallel(n_jobs=-1)]: Done  72 out of 100 | elapsed:  1.3min remaining:   30.7s\n",
      "[Parallel(n_jobs=-1)]: Done  83 out of 100 | elapsed:  1.5min remaining:   18.2s\n",
      "[Parallel(n_jobs=-1)]: Done  94 out of 100 | elapsed:  1.6min remaining:    6.0s\n",
      "[Parallel(n_jobs=-1)]: Done 100 out of 100 | elapsed:  1.7min finished\n"
     ]
    },
    {
     "name": "stdout",
     "output_type": "stream",
     "text": [
      "Multilayer perceptron mean accuracy: 99.498% (2.383)\n"
     ]
    }
   ],
   "source": [
    "scaler = MinMaxScaler(feature_range = (-1,1)) # StandardScaler\n",
    "scaler.fit(X)\n",
    "scaled_X = scaler.transform(X)\n",
    "cv = RepeatedStratifiedKFold(n_splits=10, n_repeats=10)\n",
    "scores_mlp = cross_val_score(mlp, scaled_X, y, scoring='accuracy', cv=cv, n_jobs=-1, verbose=10)\n",
    "print(\"Multilayer perceptron mean accuracy: %.3f%% (%.3f)\" % (np.mean(scores_mlp)*100, np.std(scores_mlp)*100))"
   ]
  },
  {
   "cell_type": "code",
   "execution_count": 21,
   "id": "69398d18",
   "metadata": {},
   "outputs": [
    {
     "data": {
      "image/png": "[encoded data removed]",
      "text/plain": [
       "<Figure size 1800x600 with 1 Axes>"
      ]
     },
     "metadata": {},
     "output_type": "display_data"
    }
   ],
   "source": [
    "plt.boxplot([scores_dt*100, scores_rf*100, scores_mlp*100], labels=['Decision tree', 'Random forest', \"Multilayer perceptron\"], showmeans=True)\n",
    "plt.show()"
   ]
  },
  {
   "cell_type": "code",
   "execution_count": 22,
   "id": "788c973c",
   "metadata": {},
   "outputs": [
    {
     "name": "stdout",
     "output_type": "stream",
     "text": [
      "t statistic: -0.315\n",
      "p value: 0.766\n",
      "Algorithms probably have the same performance\n"
     ]
    }
   ],
   "source": [
    "t, p = paired_ttest_5x2cv(estimator1=dt, estimator2=rf, X=X, y=y)\n",
    "print('t statistic: %.3f' % t)\n",
    "print('p value: %.3f' % p)\n",
    "if p <= 0.05:\n",
    "    print('Difference between mean performance is probably real')\n",
    "else:\n",
    "\tprint('Algorithms probably have the same performance')"
   ]
  },
  {
   "cell_type": "code",
   "execution_count": 23,
   "id": "df003561",
   "metadata": {},
   "outputs": [
    {
     "name": "stdout",
     "output_type": "stream",
     "text": [
      "t statistic: 2.054\n",
      "p value: 0.095\n",
      "Algorithms probably have the same performance\n"
     ]
    }
   ],
   "source": [
    "t, p = paired_ttest_5x2cv(estimator1=dt, estimator2=mlp, X=X, y=y)\n",
    "print('t statistic: %.3f' % t)\n",
    "print('p value: %.3f' % p)\n",
    "if p <= 0.05:\n",
    "    print('Difference between mean performance is probably real')\n",
    "else:\n",
    "\tprint('Algorithms probably have the same performance')"
   ]
  },
  {
   "cell_type": "code",
   "execution_count": 24,
   "id": "3198ae9f-1cbe-49f7-876c-cc5ec25ffdf5",
   "metadata": {},
   "outputs": [
    {
     "name": "stdout",
     "output_type": "stream",
     "text": [
      "t statistic: 20.864\n",
      "p value: 0.000\n",
      "Difference between mean performance is probably real\n"
     ]
    }
   ],
   "source": [
    "t, p = paired_ttest_5x2cv(estimator1=rf, estimator2=mlp, X=X, y=y)\n",
    "print('t statistic: %.3f' % t)\n",
    "print('p value: %.3f' % p)\n",
    "if p <= 0.05:\n",
    "    print('Difference between mean performance is probably real')\n",
    "else:\n",
    "\tprint('Algorithms probably have the same performance')"
   ]
  }
 ],
 "metadata": {
  "interpreter": {
   "hash": "1f1d1f683f9bbc581ca302453f9aa3519cae03c7830c130dc9a48967187d47e0"
  },
  "kernelspec": {
   "display_name": "Python 3 (ipykernel)",
   "language": "python",
   "name": "python3"
  },
  "language_info": {
   "codemirror_mode": {
    "name": "ipython",
    "version": 3
   },
   "file_extension": ".py",
   "mimetype": "text/x-python",
   "name": "python",
   "nbconvert_exporter": "python",
   "pygments_lexer": "ipython3",
   "version": "3.11.5"
  }
 },
 "nbformat": 4,
 "nbformat_minor": 5
}
